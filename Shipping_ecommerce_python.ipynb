{
  "nbformat": 4,
  "nbformat_minor": 0,
  "metadata": {
    "colab": {
      "provenance": []
    },
    "kernelspec": {
      "name": "python3",
      "display_name": "Python 3"
    },
    "language_info": {
      "name": "python"
    }
  },
  "cells": [
    {
      "cell_type": "code",
      "source": [
        "#Load the required libraries\n",
        "import pandas as pd\n",
        "import numpy as np\n",
        "import scipy.stats as stats\n",
        "import statsmodels.api as sm  # Import statsmodels.api\n",
        "\n",
        "from sklearn.preprocessing import LabelEncoder, OneHotEncoder\n",
        "from sklearn.neighbors import KNeighborsClassifier\n",
        "\n",
        "from sklearn.tree import DecisionTreeClassifier\n",
        "\n",
        "\n",
        "from sklearn.naive_bayes import GaussianNB\n",
        "\n",
        "from sklearn.ensemble import RandomForestClassifier\n",
        "from sklearn.metrics import confusion_matrix\n",
        "\n",
        "from sklearn import linear_model\n",
        "from sklearn.preprocessing import PolynomialFeatures\n",
        "from statsmodels.formula.api import ols\n",
        "from scipy import stats\n",
        "\n",
        "\n",
        "\n",
        "#Install and import required libraries for Random Forest\n",
        "!pip install scikit-learn\n",
        "from sklearn.ensemble import RandomForestRegressor\n",
        "from sklearn.model_selection import train_test_split\n",
        "from sklearn.metrics import mean_squared_error, r2_score, accuracy_score\n"
      ],
      "metadata": {
        "colab": {
          "base_uri": "https://localhost:8080/"
        },
        "id": "hcuGQ4y3sqWt",
        "outputId": "baa17fbd-c243-4396-8b53-88d6095df2ed"
      },
      "execution_count": 2,
      "outputs": [
        {
          "output_type": "stream",
          "name": "stdout",
          "text": [
            "Looking in indexes: https://pypi.org/simple, https://us-python.pkg.dev/colab-wheels/public/simple/\n",
            "Requirement already satisfied: scikit-learn in /usr/local/lib/python3.10/dist-packages (1.2.2)\n",
            "Requirement already satisfied: numpy>=1.17.3 in /usr/local/lib/python3.10/dist-packages (from scikit-learn) (1.22.4)\n",
            "Requirement already satisfied: scipy>=1.3.2 in /usr/local/lib/python3.10/dist-packages (from scikit-learn) (1.10.1)\n",
            "Requirement already satisfied: joblib>=1.1.1 in /usr/local/lib/python3.10/dist-packages (from scikit-learn) (1.2.0)\n",
            "Requirement already satisfied: threadpoolctl>=2.0.0 in /usr/local/lib/python3.10/dist-packages (from scikit-learn) (3.1.0)\n"
          ]
        }
      ]
    },
    {
      "cell_type": "code",
      "source": [
        "# import data ke dara frame pandas\n",
        "from google.colab import drive\n",
        "drive.mount('/content/drive')\n",
        "path =\"/content/drive/MyDrive/testing/shipping_ecommerce.csv\"\n",
        "df = pd.read_csv(path)\n",
        "\n",
        "# view 5 fist list data untuk memastikan data sudah terbaca dengan baik atau tidak\n",
        "df.head()"
      ],
      "metadata": {
        "colab": {
          "base_uri": "https://localhost:8080/",
          "height": 224
        },
        "id": "NXGskndUPRB7",
        "outputId": "c56df09b-be89-48f5-c7ac-7cd7e7a79278"
      },
      "execution_count": 3,
      "outputs": [
        {
          "output_type": "stream",
          "name": "stdout",
          "text": [
            "Mounted at /content/drive\n"
          ]
        },
        {
          "output_type": "execute_result",
          "data": {
            "text/plain": [
              "   Customer_care_calls  Customer_rating  Prior_purchases  Discount_offered  \\\n",
              "0                    5                4                2                10   \n",
              "1                    4                3                2                 6   \n",
              "2                    3                4                2                 2   \n",
              "3                    3                1                2                27   \n",
              "4                    7                5                4                 9   \n",
              "\n",
              "   Weight_in_gms Warehouse_block Mode_of_Shipment Product_importance Gender  \\\n",
              "0           5395               A             Ship             medium      M   \n",
              "1           5867               F             Ship             medium      F   \n",
              "2           5957               D             Ship             medium      M   \n",
              "3           2551               D             Ship             medium      M   \n",
              "4           1329               B             Ship             medium      M   \n",
              "\n",
              "   Class  \n",
              "0      1  \n",
              "1      0  \n",
              "2      0  \n",
              "3      1  \n",
              "4      1  "
            ],
            "text/html": [
              "\n",
              "  <div id=\"df-5ab2d575-cb54-494f-837d-ea7e3ff51f6b\">\n",
              "    <div class=\"colab-df-container\">\n",
              "      <div>\n",
              "<style scoped>\n",
              "    .dataframe tbody tr th:only-of-type {\n",
              "        vertical-align: middle;\n",
              "    }\n",
              "\n",
              "    .dataframe tbody tr th {\n",
              "        vertical-align: top;\n",
              "    }\n",
              "\n",
              "    .dataframe thead th {\n",
              "        text-align: right;\n",
              "    }\n",
              "</style>\n",
              "<table border=\"1\" class=\"dataframe\">\n",
              "  <thead>\n",
              "    <tr style=\"text-align: right;\">\n",
              "      <th></th>\n",
              "      <th>Customer_care_calls</th>\n",
              "      <th>Customer_rating</th>\n",
              "      <th>Prior_purchases</th>\n",
              "      <th>Discount_offered</th>\n",
              "      <th>Weight_in_gms</th>\n",
              "      <th>Warehouse_block</th>\n",
              "      <th>Mode_of_Shipment</th>\n",
              "      <th>Product_importance</th>\n",
              "      <th>Gender</th>\n",
              "      <th>Class</th>\n",
              "    </tr>\n",
              "  </thead>\n",
              "  <tbody>\n",
              "    <tr>\n",
              "      <th>0</th>\n",
              "      <td>5</td>\n",
              "      <td>4</td>\n",
              "      <td>2</td>\n",
              "      <td>10</td>\n",
              "      <td>5395</td>\n",
              "      <td>A</td>\n",
              "      <td>Ship</td>\n",
              "      <td>medium</td>\n",
              "      <td>M</td>\n",
              "      <td>1</td>\n",
              "    </tr>\n",
              "    <tr>\n",
              "      <th>1</th>\n",
              "      <td>4</td>\n",
              "      <td>3</td>\n",
              "      <td>2</td>\n",
              "      <td>6</td>\n",
              "      <td>5867</td>\n",
              "      <td>F</td>\n",
              "      <td>Ship</td>\n",
              "      <td>medium</td>\n",
              "      <td>F</td>\n",
              "      <td>0</td>\n",
              "    </tr>\n",
              "    <tr>\n",
              "      <th>2</th>\n",
              "      <td>3</td>\n",
              "      <td>4</td>\n",
              "      <td>2</td>\n",
              "      <td>2</td>\n",
              "      <td>5957</td>\n",
              "      <td>D</td>\n",
              "      <td>Ship</td>\n",
              "      <td>medium</td>\n",
              "      <td>M</td>\n",
              "      <td>0</td>\n",
              "    </tr>\n",
              "    <tr>\n",
              "      <th>3</th>\n",
              "      <td>3</td>\n",
              "      <td>1</td>\n",
              "      <td>2</td>\n",
              "      <td>27</td>\n",
              "      <td>2551</td>\n",
              "      <td>D</td>\n",
              "      <td>Ship</td>\n",
              "      <td>medium</td>\n",
              "      <td>M</td>\n",
              "      <td>1</td>\n",
              "    </tr>\n",
              "    <tr>\n",
              "      <th>4</th>\n",
              "      <td>7</td>\n",
              "      <td>5</td>\n",
              "      <td>4</td>\n",
              "      <td>9</td>\n",
              "      <td>1329</td>\n",
              "      <td>B</td>\n",
              "      <td>Ship</td>\n",
              "      <td>medium</td>\n",
              "      <td>M</td>\n",
              "      <td>1</td>\n",
              "    </tr>\n",
              "  </tbody>\n",
              "</table>\n",
              "</div>\n",
              "      <button class=\"colab-df-convert\" onclick=\"convertToInteractive('df-5ab2d575-cb54-494f-837d-ea7e3ff51f6b')\"\n",
              "              title=\"Convert this dataframe to an interactive table.\"\n",
              "              style=\"display:none;\">\n",
              "        \n",
              "  <svg xmlns=\"http://www.w3.org/2000/svg\" height=\"24px\"viewBox=\"0 0 24 24\"\n",
              "       width=\"24px\">\n",
              "    <path d=\"M0 0h24v24H0V0z\" fill=\"none\"/>\n",
              "    <path d=\"M18.56 5.44l.94 2.06.94-2.06 2.06-.94-2.06-.94-.94-2.06-.94 2.06-2.06.94zm-11 1L8.5 8.5l.94-2.06 2.06-.94-2.06-.94L8.5 2.5l-.94 2.06-2.06.94zm10 10l.94 2.06.94-2.06 2.06-.94-2.06-.94-.94-2.06-.94 2.06-2.06.94z\"/><path d=\"M17.41 7.96l-1.37-1.37c-.4-.4-.92-.59-1.43-.59-.52 0-1.04.2-1.43.59L10.3 9.45l-7.72 7.72c-.78.78-.78 2.05 0 2.83L4 21.41c.39.39.9.59 1.41.59.51 0 1.02-.2 1.41-.59l7.78-7.78 2.81-2.81c.8-.78.8-2.07 0-2.86zM5.41 20L4 18.59l7.72-7.72 1.47 1.35L5.41 20z\"/>\n",
              "  </svg>\n",
              "      </button>\n",
              "      \n",
              "  <style>\n",
              "    .colab-df-container {\n",
              "      display:flex;\n",
              "      flex-wrap:wrap;\n",
              "      gap: 12px;\n",
              "    }\n",
              "\n",
              "    .colab-df-convert {\n",
              "      background-color: #E8F0FE;\n",
              "      border: none;\n",
              "      border-radius: 50%;\n",
              "      cursor: pointer;\n",
              "      display: none;\n",
              "      fill: #1967D2;\n",
              "      height: 32px;\n",
              "      padding: 0 0 0 0;\n",
              "      width: 32px;\n",
              "    }\n",
              "\n",
              "    .colab-df-convert:hover {\n",
              "      background-color: #E2EBFA;\n",
              "      box-shadow: 0px 1px 2px rgba(60, 64, 67, 0.3), 0px 1px 3px 1px rgba(60, 64, 67, 0.15);\n",
              "      fill: #174EA6;\n",
              "    }\n",
              "\n",
              "    [theme=dark] .colab-df-convert {\n",
              "      background-color: #3B4455;\n",
              "      fill: #D2E3FC;\n",
              "    }\n",
              "\n",
              "    [theme=dark] .colab-df-convert:hover {\n",
              "      background-color: #434B5C;\n",
              "      box-shadow: 0px 1px 3px 1px rgba(0, 0, 0, 0.15);\n",
              "      filter: drop-shadow(0px 1px 2px rgba(0, 0, 0, 0.3));\n",
              "      fill: #FFFFFF;\n",
              "    }\n",
              "  </style>\n",
              "\n",
              "      <script>\n",
              "        const buttonEl =\n",
              "          document.querySelector('#df-5ab2d575-cb54-494f-837d-ea7e3ff51f6b button.colab-df-convert');\n",
              "        buttonEl.style.display =\n",
              "          google.colab.kernel.accessAllowed ? 'block' : 'none';\n",
              "\n",
              "        async function convertToInteractive(key) {\n",
              "          const element = document.querySelector('#df-5ab2d575-cb54-494f-837d-ea7e3ff51f6b');\n",
              "          const dataTable =\n",
              "            await google.colab.kernel.invokeFunction('convertToInteractive',\n",
              "                                                     [key], {});\n",
              "          if (!dataTable) return;\n",
              "\n",
              "          const docLinkHtml = 'Like what you see? Visit the ' +\n",
              "            '<a target=\"_blank\" href=https://colab.research.google.com/notebooks/data_table.ipynb>data table notebook</a>'\n",
              "            + ' to learn more about interactive tables.';\n",
              "          element.innerHTML = '';\n",
              "          dataTable['output_type'] = 'display_data';\n",
              "          await google.colab.output.renderOutput(dataTable, element);\n",
              "          const docLink = document.createElement('div');\n",
              "          docLink.innerHTML = docLinkHtml;\n",
              "          element.appendChild(docLink);\n",
              "        }\n",
              "      </script>\n",
              "    </div>\n",
              "  </div>\n",
              "  "
            ]
          },
          "metadata": {},
          "execution_count": 3
        }
      ]
    },
    {
      "cell_type": "markdown",
      "source": [
        "#No 1"
      ],
      "metadata": {
        "id": "wjfJAQadtvkd"
      }
    },
    {
      "cell_type": "code",
      "source": [
        "# Define independent variables and dependent variable\n",
        "IndependentVars = [\"Customer_care_calls\", \"Discount_offered\", \"Prior_purchases\", \"Weight_in_gms\", \"Class\"]\n",
        "depentVar = \"Customer_rating\""
      ],
      "metadata": {
        "id": "Qlf4lW_yodOP"
      },
      "execution_count": null,
      "outputs": []
    },
    {
      "cell_type": "code",
      "source": [
        "# Loop through all independent variables and calculate Pearson correlation with the dependent variable\n",
        "for IndependentVar in IndependentVars:\n",
        "    cor_value = df[[depentVar, IndependentVar]].corr(method='pearson')[depentVar][IndependentVar]\n",
        "  \n",
        "    # Print result to console\n",
        "    print(\"Correlation between %s and %s \\t: %f\" % (depentVar, IndependentVar, cor_value))"
      ],
      "metadata": {
        "colab": {
          "base_uri": "https://localhost:8080/"
        },
        "id": "FIVlMbpsoavb",
        "outputId": "c80b3481-beb7-49b9-cdf7-0efb4a71ac5d"
      },
      "execution_count": null,
      "outputs": [
        {
          "output_type": "stream",
          "name": "stdout",
          "text": [
            "Correlation between Customer_rating and Customer_care_calls \t: 0.012270\n",
            "Correlation between Customer_rating and Discount_offered \t: -0.003103\n",
            "Correlation between Customer_rating and Prior_purchases \t: 0.013161\n",
            "Correlation between Customer_rating and Weight_in_gms \t: -0.001960\n",
            "Correlation between Customer_rating and Class \t: 0.013199\n"
          ]
        }
      ]
    },
    {
      "cell_type": "code",
      "source": [
        "# Mencari korelasi cara kedua\n",
        "correlation1 = df[\"Customer_rating\"].corr(df[\"Customer_care_calls\"], method=\"pearson\")\n",
        "correlation2 = df[\"Customer_rating\"].corr(df[\"Discount_offered\"], method=\"pearson\")\n",
        "correlation3 = df[\"Customer_rating\"].corr(df[\"Prior_purchases\"], method=\"pearson\")\n",
        "correlation4 = df[\"Customer_rating\"].corr(df[\"Weight_in_gms\"], method=\"pearson\")\n",
        "correlation5 = df[\"Customer_rating\"].corr(df[\"Class\"], method=\"pearson\")\n",
        "\n",
        "print(\"Correlation between Customer_rating and Customer_care_calls:\", correlation1)\n",
        "print(\"Correlation between Customer_rating and Discount_offered:\", correlation2)\n",
        "print(\"Correlation between Customer_rating and Prior_purchases:\", correlation3)\n",
        "print(\"Correlation between Customer_rating and Weight_in_gms:\", correlation4)\n",
        "print(\"Correlation between Customer_rating and Class:\", correlation5)\n"
      ],
      "metadata": {
        "colab": {
          "base_uri": "https://localhost:8080/"
        },
        "id": "RwguiDcltT_P",
        "outputId": "0d1078f3-b3d5-4bc0-b75f-73629b2b303c"
      },
      "execution_count": null,
      "outputs": [
        {
          "output_type": "stream",
          "name": "stdout",
          "text": [
            "Correlation between Customer_rating and Customer_care_calls: 0.01226954978032025\n",
            "Correlation between Customer_rating and Discount_offered: -0.003103000749483873\n",
            "Correlation between Customer_rating and Prior_purchases: 0.013161303992808742\n",
            "Correlation between Customer_rating and Weight_in_gms: -0.0019595178284686527\n",
            "Correlation between Customer_rating and Class: 0.01319877878772111\n"
          ]
        }
      ]
    },
    {
      "cell_type": "code",
      "source": [
        "#Summary statistics\n",
        "summary = df.describe()\n",
        "print(summary)"
      ],
      "metadata": {
        "id": "SSoU_lUDta-k",
        "colab": {
          "base_uri": "https://localhost:8080/"
        },
        "outputId": "8994dabc-2d7e-4ce2-ec6b-53b10c5b1038"
      },
      "execution_count": null,
      "outputs": [
        {
          "output_type": "stream",
          "name": "stdout",
          "text": [
            "       Customer_care_calls  Customer_rating  Prior_purchases  \\\n",
            "count         10998.000000     10998.000000     10998.000000   \n",
            "mean              4.054555         2.990453         3.567558   \n",
            "std               1.141497         1.413635         1.522924   \n",
            "min               2.000000         1.000000         2.000000   \n",
            "25%               3.000000         2.000000         3.000000   \n",
            "50%               4.000000         3.000000         3.000000   \n",
            "75%               5.000000         4.000000         4.000000   \n",
            "max               7.000000         5.000000        10.000000   \n",
            "\n",
            "       Discount_offered  Weight_in_gms         Class  \n",
            "count      10998.000000   10998.000000  10998.000000  \n",
            "mean          13.373704    3633.873522      0.596745  \n",
            "std           16.206183    1635.382636      0.490573  \n",
            "min            1.000000    1001.000000      0.000000  \n",
            "25%            4.000000    1839.250000      0.000000  \n",
            "50%            7.000000    4149.000000      1.000000  \n",
            "75%           10.000000    5049.750000      1.000000  \n",
            "max           65.000000    7846.000000      1.000000  \n"
          ]
        }
      ]
    },
    {
      "cell_type": "markdown",
      "source": [
        "#No 2"
      ],
      "metadata": {
        "id": "7P0LkLzqtk1_"
      }
    },
    {
      "cell_type": "code",
      "source": [
        "# Linear regression model\n",
        "lm_model = sm.OLS(df['Customer_rating'], sm.add_constant(df[['Prior_purchases', 'Discount_offered']])).fit()\n",
        "print(lm_model.summary())"
      ],
      "metadata": {
        "colab": {
          "base_uri": "https://localhost:8080/"
        },
        "id": "ranDPbquZ9OS",
        "outputId": "3f4f9e39-8c41-4d45-cdc2-fdd1a18777eb"
      },
      "execution_count": null,
      "outputs": [
        {
          "output_type": "stream",
          "name": "stdout",
          "text": [
            "                            OLS Regression Results                            \n",
            "==============================================================================\n",
            "Dep. Variable:        Customer_rating   R-squared:                       0.000\n",
            "Model:                            OLS   Adj. R-squared:                 -0.000\n",
            "Method:                 Least Squares   F-statistic:                    0.9749\n",
            "Date:                Fri, 19 May 2023   Prob (F-statistic):              0.377\n",
            "Time:                        06:17:02   Log-Likelihood:                -19411.\n",
            "No. Observations:               10998   AIC:                         3.883e+04\n",
            "Df Residuals:                   10995   BIC:                         3.885e+04\n",
            "Df Model:                           2                                         \n",
            "Covariance Type:            nonrobust                                         \n",
            "====================================================================================\n",
            "                       coef    std err          t      P>|t|      [0.025      0.975]\n",
            "------------------------------------------------------------------------------------\n",
            "const                2.9498      0.037     79.726      0.000       2.877       3.022\n",
            "Prior_purchases      0.0121      0.009      1.358      0.175      -0.005       0.029\n",
            "Discount_offered    -0.0002      0.001     -0.212      0.832      -0.002       0.001\n",
            "==============================================================================\n",
            "Omnibus:                    35327.953   Durbin-Watson:                   1.985\n",
            "Prob(Omnibus):                  0.000   Jarque-Bera (JB):              768.693\n",
            "Skew:                           0.005   Prob(JB):                    1.20e-167\n",
            "Kurtosis:                       1.705   Cond. No.                         59.3\n",
            "==============================================================================\n",
            "\n",
            "Notes:\n",
            "[1] Standard Errors assume that the covariance matrix of the errors is correctly specified.\n"
          ]
        }
      ]
    },
    {
      "cell_type": "code",
      "source": [
        "#cara kedua\n",
        "# Fit the linear regression model\n",
        "X = df[[\"Prior_purchases\", \"Discount_offered\"]]  # Independent variables\n",
        "y = df[\"Customer_rating\"]  # Dependent variable\n",
        "\n",
        "X = sm.add_constant(X)  # Add constant term to the independent variables\n",
        "lm_model = sm.OLS(y, X).fit()  # Fit the OLS model\n",
        "\n",
        "print(lm_model.summary())"
      ],
      "metadata": {
        "colab": {
          "base_uri": "https://localhost:8080/"
        },
        "id": "T9VLvwgLO6kr",
        "outputId": "4f36f915-7815-489f-8f03-cc5262be6c3f"
      },
      "execution_count": null,
      "outputs": [
        {
          "output_type": "stream",
          "name": "stdout",
          "text": [
            "                            OLS Regression Results                            \n",
            "==============================================================================\n",
            "Dep. Variable:        Customer_rating   R-squared:                       0.000\n",
            "Model:                            OLS   Adj. R-squared:                 -0.000\n",
            "Method:                 Least Squares   F-statistic:                    0.9749\n",
            "Date:                Fri, 19 May 2023   Prob (F-statistic):              0.377\n",
            "Time:                        06:16:59   Log-Likelihood:                -19411.\n",
            "No. Observations:               10998   AIC:                         3.883e+04\n",
            "Df Residuals:                   10995   BIC:                         3.885e+04\n",
            "Df Model:                           2                                         \n",
            "Covariance Type:            nonrobust                                         \n",
            "====================================================================================\n",
            "                       coef    std err          t      P>|t|      [0.025      0.975]\n",
            "------------------------------------------------------------------------------------\n",
            "const                2.9498      0.037     79.726      0.000       2.877       3.022\n",
            "Prior_purchases      0.0121      0.009      1.358      0.175      -0.005       0.029\n",
            "Discount_offered    -0.0002      0.001     -0.212      0.832      -0.002       0.001\n",
            "==============================================================================\n",
            "Omnibus:                    35327.953   Durbin-Watson:                   1.985\n",
            "Prob(Omnibus):                  0.000   Jarque-Bera (JB):              768.693\n",
            "Skew:                           0.005   Prob(JB):                    1.20e-167\n",
            "Kurtosis:                       1.705   Cond. No.                         59.3\n",
            "==============================================================================\n",
            "\n",
            "Notes:\n",
            "[1] Standard Errors assume that the covariance matrix of the errors is correctly specified.\n"
          ]
        }
      ]
    },
    {
      "cell_type": "code",
      "source": [
        "# Chi-square test\n",
        "contingency_table = pd.crosstab(df['Mode_of_Shipment'], df['Product_importance'])\n",
        "result = stats.chi2_contingency(contingency_table)\n",
        "print(\"\\nMode of Shipment ~ Product Importance:\")\n",
        "print(\"Chi-square statistic:\", result[0])\n",
        "print(\"P-value:\", result[1])\n",
        "\n",
        "contingency_table1 = pd.crosstab(df['Warehouse_block'], df['Mode_of_Shipment'])\n",
        "result1 = stats.chi2_contingency(contingency_table1)\n",
        "print(\"\\nWarehouse Block ~ Mode of Shipment:\")\n",
        "print(\"Chi-square statistic:\", result1[0])\n",
        "print(\"P-value:\", result1[1])\n",
        "\n",
        "contingency_table2 = pd.crosstab(df['Warehouse_block'], df['Product_importance'])\n",
        "result2 = stats.chi2_contingency(contingency_table2)\n",
        "print(\"\\nWarehouse Block ~ Product Importance:\")\n",
        "print(\"Chi-square statistic:\", result2[0])\n",
        "print(\"P-value:\", result2[1])\n",
        "\n",
        "contingency_table3 = pd.crosstab(df['Gender'], df['Product_importance'])\n",
        "result3 = stats.chi2_contingency(contingency_table3)\n",
        "print(\"\\nGender ~ Product Importance:\")\n",
        "print(\"Chi-square statistic:\", result3[0])\n",
        "print(\"P-value:\", result3[1])"
      ],
      "metadata": {
        "colab": {
          "base_uri": "https://localhost:8080/"
        },
        "id": "MYt-TMSUnp4a",
        "outputId": "0af88ba1-b6ba-4290-92a7-f09ccea8cf24"
      },
      "execution_count": 5,
      "outputs": [
        {
          "output_type": "stream",
          "name": "stdout",
          "text": [
            "\n",
            "Mode of Shipment ~ Product Importance:\n",
            "Chi-square statistic: 2.2138917567882053\n",
            "P-value: 0.696486805133734\n",
            "\n",
            "Warehouse Block ~ Mode of Shipment:\n",
            "Chi-square statistic: 0.027478221360348262\n",
            "P-value: 0.999999998531578\n",
            "\n",
            "Warehouse Block ~ Product Importance:\n",
            "Chi-square statistic: 7.999960531829085\n",
            "P-value: 0.4334739757616384\n",
            "\n",
            "Gender ~ Product Importance:\n",
            "Chi-square statistic: 1.1182809304120136\n",
            "P-value: 0.5717002489789514\n"
          ]
        }
      ]
    },
    {
      "cell_type": "code",
      "source": [
        "# ANOVA\n",
        "anova_model = ols('Customer_rating ~ Warehouse_block', data=df).fit()\n",
        "print(anova_model.summary())\n"
      ],
      "metadata": {
        "colab": {
          "base_uri": "https://localhost:8080/"
        },
        "id": "WM0eFHkBZAhW",
        "outputId": "b2f14e37-d59a-43d7-c1f2-b14f2112453c"
      },
      "execution_count": 6,
      "outputs": [
        {
          "output_type": "stream",
          "name": "stdout",
          "text": [
            "                            OLS Regression Results                            \n",
            "==============================================================================\n",
            "Dep. Variable:        Customer_rating   R-squared:                       0.000\n",
            "Model:                            OLS   Adj. R-squared:                 -0.000\n",
            "Method:                 Least Squares   F-statistic:                    0.4766\n",
            "Date:                Sat, 20 May 2023   Prob (F-statistic):              0.753\n",
            "Time:                        03:50:24   Log-Likelihood:                -19411.\n",
            "No. Observations:               10998   AIC:                         3.883e+04\n",
            "Df Residuals:                   10993   BIC:                         3.887e+04\n",
            "Df Model:                           4                                         \n",
            "Covariance Type:            nonrobust                                         \n",
            "========================================================================================\n",
            "                           coef    std err          t      P>|t|      [0.025      0.975]\n",
            "----------------------------------------------------------------------------------------\n",
            "Intercept                2.9569      0.033     89.519      0.000       2.892       3.022\n",
            "Warehouse_block[T.B]     0.0235      0.047      0.503      0.615      -0.068       0.115\n",
            "Warehouse_block[T.C]     0.0371      0.047      0.795      0.427      -0.054       0.129\n",
            "Warehouse_block[T.D]     0.0611      0.047      1.309      0.191      -0.030       0.153\n",
            "Warehouse_block[T.F]     0.0398      0.040      0.985      0.325      -0.039       0.119\n",
            "==============================================================================\n",
            "Omnibus:                    34956.789   Durbin-Watson:                   1.985\n",
            "Prob(Omnibus):                  0.000   Jarque-Bera (JB):              768.164\n",
            "Skew:                           0.005   Prob(JB):                    1.57e-167\n",
            "Kurtosis:                       1.705   Cond. No.                         6.44\n",
            "==============================================================================\n",
            "\n",
            "Notes:\n",
            "[1] Standard Errors assume that the covariance matrix of the errors is correctly specified.\n"
          ]
        }
      ]
    },
    {
      "cell_type": "code",
      "source": [
        "# t-test #\n",
        "\n",
        "# Grouping data into 2 groups based on Class\n",
        "group_0 = df.loc[df['Class'] == 0]['Customer_rating']\n",
        "group_1 = df.loc[df['Class'] == 1]['Customer_rating']"
      ],
      "metadata": {
        "id": "-TTwt2laooAJ"
      },
      "execution_count": null,
      "outputs": []
    },
    {
      "cell_type": "code",
      "source": [
        "# Perform the t-test\n",
        "t_test_result = stats.ttest_ind(group_0, group_1)\n",
        "print(t_test_result)"
      ],
      "metadata": {
        "colab": {
          "base_uri": "https://localhost:8080/"
        },
        "id": "o4_EnlruosRn",
        "outputId": "8e666ea1-da41-45d4-91da-258d6ef1673c"
      },
      "execution_count": null,
      "outputs": [
        {
          "output_type": "stream",
          "name": "stdout",
          "text": [
            "Ttest_indResult(statistic=-1.3841684557345875, pvalue=0.16633497048509163)\n"
          ]
        }
      ]
    },
    {
      "cell_type": "code",
      "source": [
        "# T-test cara kedua bisa dicari dengan sebagai berikut\n",
        "male_ratings = df.loc[df['Gender'] == 'M', 'Customer_rating']\n",
        "female_ratings = df.loc[df['Gender'] == 'F', 'Customer_rating']\n",
        "t_stat_gender, p_value_gender = stats.ttest_ind(male_ratings, female_ratings)\n",
        "print(\"T-test results for Customer_rating between males and females:\")\n",
        "print(\"T-statistic:\", t_stat_gender)\n",
        "print(\"P-value:\", p_value_gender)\n",
        "\n",
        "class1_ratings = df.loc[df['Class'] == 0, 'Customer_rating']\n",
        "class2_ratings = df.loc[df['Class'] == 1, 'Customer_rating']\n",
        "t_stat_class, p_value_class = stats.ttest_ind(class1_ratings, class2_ratings)\n",
        "print(\"\\nT-test results for Customer_rating between class 0 and class 1:\")\n",
        "print(\"T-statistic:\", t_stat_class)\n",
        "print(\"P-value:\", p_value_class)"
      ],
      "metadata": {
        "colab": {
          "base_uri": "https://localhost:8080/"
        },
        "id": "TnQ4kEiHZAat",
        "outputId": "c2836130-03af-4c0c-d042-8454d3cb9028"
      },
      "execution_count": null,
      "outputs": [
        {
          "output_type": "stream",
          "name": "stdout",
          "text": [
            "T-test results for Customer_rating between males and females:\n",
            "T-statistic: 0.29774346481792036\n",
            "P-value: 0.7659045919177931\n",
            "\n",
            "T-test results for Customer_rating between class 0 and class 1:\n",
            "T-statistic: -1.3841684557345875\n",
            "P-value: 0.16633497048509163\n"
          ]
        }
      ]
    },
    {
      "cell_type": "markdown",
      "source": [
        "#No 3"
      ],
      "metadata": {
        "id": "2Z_7vOCHtZxP"
      }
    },
    {
      "cell_type": "code",
      "source": [
        "# Preprocess the data\n",
        "df['Customer_rating'] = df['Customer_rating'].astype('category')\n",
        "df['Customer_care_calls'] = pd.to_numeric(df['Customer_care_calls'])\n",
        "df['Prior_purchases'] = pd.to_numeric(df['Prior_purchases'])\n",
        "df['Discount_offered'] = pd.to_numeric(df['Discount_offered'])\n",
        "df['Weight_in_gms'] = pd.to_numeric(df['Weight_in_gms'])\n",
        "\n",
        "# Encode categorical variables\n",
        "cat_cols = ['Warehouse_block', 'Mode_of_Shipment', 'Product_importance', 'Gender', 'Class']\n",
        "label_encoders = {}\n",
        "for col in cat_cols:\n",
        "    label_encoders[col] = LabelEncoder()\n",
        "    df[col] = label_encoders[col].fit_transform(df[col])\n",
        "\n",
        "# Split the data into training and testing sets\n",
        "X = df.drop('Customer_rating', axis=1)\n",
        "y = df['Customer_rating']\n",
        "X_train, X_test, y_train, y_test = train_test_split(X, y, test_size=0.1, random_state=123)\n",
        "\n",
        "# Train the random forest model\n",
        "model = RandomForestClassifier(random_state=123)\n",
        "model.fit(X_train, y_train)\n",
        "\n",
        "# Make predictions on the test data\n",
        "predictions = model.predict(X_test)\n",
        "\n",
        "# Calculate accuracy\n",
        "accuracy = accuracy_score(y_test, predictions)\n",
        "print(\"Accuracy:\", accuracy)\n"
      ],
      "metadata": {
        "colab": {
          "base_uri": "https://localhost:8080/"
        },
        "id": "wOkDMmbY1Pqf",
        "outputId": "10f98e51-bbe9-49e8-bd48-3270ebb3edc0"
      },
      "execution_count": null,
      "outputs": [
        {
          "output_type": "stream",
          "name": "stdout",
          "text": [
            "Accuracy: 0.19454545454545455\n"
          ]
        }
      ]
    }
  ]
}